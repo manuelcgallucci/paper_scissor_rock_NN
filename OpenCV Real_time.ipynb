{
 "cells": [
  {
   "cell_type": "code",
   "execution_count": 1,
   "id": "179f55d0",
   "metadata": {},
   "outputs": [],
   "source": [
    "import cv2\n",
    "import numpy as np\n",
    "import time\n",
    "import tensorflow as tf\n",
    "import matplotlib.pyplot as plt"
   ]
  },
  {
   "cell_type": "code",
   "execution_count": 7,
   "id": "e0047213",
   "metadata": {},
   "outputs": [],
   "source": [
    "# Define a function to draw text to the screen \n",
    "def draw_text(img, text, font=cv2.FONT_HERSHEY_PLAIN, pos=(0, 0),\n",
    "          font_scale=3, font_thickness=2,\n",
    "          text_color=(0, 255, 0), text_color_bg=(255, 255, 255)):\n",
    "    \n",
    "    x, y = pos\n",
    "    text_size, _ = cv2.getTextSize(text, font, font_scale, font_thickness)\n",
    "    text_w, text_h = text_size\n",
    "    cv2.rectangle(img, pos, (x + text_w, y + text_h), text_color_bg, -1)\n",
    "    cv2.putText(img, text, (x, y + text_h + font_scale - 1), font, font_scale, text_color, font_thickness)\n",
    "\n",
    "    return text_size"
   ]
  },
  {
   "cell_type": "code",
   "execution_count": 8,
   "id": "19ab01f2",
   "metadata": {},
   "outputs": [],
   "source": [
    "# Define labels and the model to use\n",
    "labels = ['paper', 'rock', 'scissor']\n",
    "model = tf.keras.models.load_model('model_my_data_781,923_0.926')"
   ]
  },
  {
   "cell_type": "code",
   "execution_count": 9,
   "id": "428f4b1a",
   "metadata": {},
   "outputs": [],
   "source": [
    "# Run the video\n",
    "\n",
    "cap = cv2.VideoCapture(0)\n",
    "while(True):\n",
    "    # Read form the camara\n",
    "    ret, frame_original = cap.read()\n",
    "    \n",
    "    # Set greyscale and threshold values to use as the model input\n",
    "    frame = cv2.cvtColor(frame_original, cv2.COLOR_BGR2GRAY)\n",
    "    ret, frame = cv2.threshold(frame,180,255,cv2.THRESH_BINARY)\n",
    "    \n",
    "    # Resize for the model\n",
    "    frame = cv2.resize(frame, (128,128), interpolation = cv2.INTER_AREA)\n",
    "    \n",
    "    # Resize to see better on camera \n",
    "    frame_resized = cv2.resize(frame, (512,512))#, interpolation = cv2.INTER_AREA)\n",
    "    frame_display = frame_resized # DEBUG temporary variable \n",
    "    \n",
    "    # Predict the value and draw the text on the frame \n",
    "    prediction = model.predict(np.resize(frame,(1,128,128,1))/255) \n",
    "    draw_text(frame_display, labels[np.argmax(prediction)], pos=(20,20))\n",
    "    \n",
    "    # Show the frame\n",
    "    cv2.imshow('OpenCv', frame_display)\n",
    "    \n",
    "    draw_text(frame_display, labels[np.argmax(prediction)], pos=(20,20))\n",
    "    \n",
    "    \n",
    "    # Set the Q key to stop the video\n",
    "    if cv2.waitKey(1) & 0xFF == ord('q'):\n",
    "        break\n",
    "\n",
    "cap.release()\n",
    "cv2.destroyAllWindows()"
   ]
  },
  {
   "cell_type": "code",
   "execution_count": 11,
   "id": "de36e015",
   "metadata": {},
   "outputs": [],
   "source": [
    "# Save images for training \n",
    "\n",
    "cap = cv2.VideoCapture(0)\n",
    "labels = ['paper' , 'rock', 'scissor']\n",
    "k = [1,1,1]\n",
    "while(True):\n",
    "    # Read form the camara\n",
    "    ret, frame_original = cap.read()\n",
    "    \n",
    "    # Set greyscale and threshold values to use as the model input\n",
    "    frame = cv2.cvtColor(frame_original, cv2.COLOR_BGR2GRAY)\n",
    "    ret, frame = cv2.threshold(frame,180,255,cv2.THRESH_BINARY)\n",
    "    \n",
    "    # Resize for the model\n",
    "    frame = cv2.resize(frame, (128,128), interpolation = cv2.INTER_AREA)\n",
    "    \n",
    "    # Resize to see better on camera \n",
    "    #frame_resized = cv2.resize(frame, (512,512))#, interpolation = cv2.INTER_AREA)\n",
    "    frame_display = frame # DEBUG temporary variable \n",
    "    \n",
    "    #draw_text(frame_display, labels[np.argmax(prediction)], pos=(20,20))\n",
    "    aux = cv2.waitKey(1);\n",
    "    if aux & 0xFF == ord('p'):\n",
    "        cv2.imwrite(\"my_data/paper/paper%d.jpg\" % k[0], frame)\n",
    "        draw_text(frame_display, 'paper', pos=(20,20))\n",
    "        k[0] += 1\n",
    "    if aux & 0xFF == ord('r'):\n",
    "        cv2.imwrite(\"my_data/rock/rock%d.jpg\" % k[1], frame)\n",
    "        draw_text(frame_display, 'rock', pos=(20,20))\n",
    "        k[1] += 1\n",
    "    if aux & 0xFF == ord('s'):\n",
    "        cv2.imwrite(\"my_data/scissor/scissor%d.jpg\" % k[2], frame)\n",
    "        draw_text(frame_display, 'scissor', pos=(20,20))\n",
    "        k[2] += 1\n",
    "    \n",
    "    # Show the frame\n",
    "    cv2.imshow('OpenCv', frame_display)\n",
    "    \n",
    "    # Set the Q key to stop the video\n",
    "    if aux & 0xFF == ord('q'):\n",
    "        break\n",
    "    \n",
    "cap.release()\n",
    "cv2.destroyAllWindows()\n",
    "\n"
   ]
  },
  {
   "cell_type": "code",
   "execution_count": 5,
   "id": "43113b3b",
   "metadata": {},
   "outputs": [
    {
     "name": "stdout",
     "output_type": "stream",
     "text": [
      "Time per prediction [ms]: 55.929\n"
     ]
    },
    {
     "data": {
      "image/png": "[encoded data removed]",
      "text/plain": [
       "<Figure size 432x288 with 1 Axes>"
      ]
     },
     "metadata": {
      "needs_background": "light"
     },
     "output_type": "display_data"
    }
   ],
   "source": [
    "# See how long it takes to predict with the selected model\n",
    "\n",
    "\n",
    "N = 100\n",
    "test_array = np.random.randint(2,size=(1,128,128,1,N))\n",
    "results = np.zeros((N))\n",
    "\n",
    "start = time.time()\n",
    "for i in range(N):\n",
    "    prediction = model.predict(test_array[:,:,:,:,i]) \n",
    "end = time.time() \n",
    "\n",
    "print('Time per prediction [ms]: ' + str(np.round(1000*(end-start)/N,3)))\n",
    "\n",
    "for i in range(N):\n",
    "    prediction = model.predict(test_array[:,:,:,:,i]) \n",
    "    results[i] = np.argmax(prediction)\n",
    "\n",
    "plt.hist(results,[0,1,2,3],align='left')\n",
    "plt.show()"
   ]
  },
  {
   "cell_type": "code",
   "execution_count": null,
   "id": "10f67de6",
   "metadata": {},
   "outputs": [],
   "source": []
  },
  {
   "cell_type": "code",
   "execution_count": 43,
   "id": "258ba099",
   "metadata": {},
   "outputs": [],
   "source": []
  },
  {
   "cell_type": "code",
   "execution_count": null,
   "id": "d97cfd2b",
   "metadata": {},
   "outputs": [],
   "source": []
  },
  {
   "cell_type": "code",
   "execution_count": null,
   "id": "07171150",
   "metadata": {},
   "outputs": [],
   "source": []
  }
 ],
 "metadata": {
  "kernelspec": {
   "display_name": "Python 3",
   "language": "python",
   "name": "python3"
  },
  "language_info": {
   "codemirror_mode": {
    "name": "ipython",
    "version": 3
   },
   "file_extension": ".py",
   "mimetype": "text/x-python",
   "name": "python",
   "nbconvert_exporter": "python",
   "pygments_lexer": "ipython3",
   "version": "3.8.8"
  }
 },
 "nbformat": 4,
 "nbformat_minor": 5
}
